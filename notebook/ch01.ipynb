{
 "cells": [
  {
   "cell_type": "markdown",
   "id": "4159484e",
   "metadata": {},
   "source": [
    "# Chapter1 Review of Neural Network\n",
    "\n",
    "## 1.1 Math and Python\n",
    "\n",
    "## 1.2 Prediction of Neural Network"
   ]
  },
  {
   "cell_type": "code",
   "execution_count": 6,
   "id": "d90b71ae",
   "metadata": {},
   "outputs": [
    {
     "name": "stdout",
     "output_type": "stream",
     "text": [
      "[[ 2.10134872 -1.41417644 -1.16212914]\n",
      " [ 2.43040025 -1.29084118 -1.66664124]\n",
      " [ 2.63500701 -1.4937869  -1.69107609]\n",
      " [ 2.37488515 -1.54861461 -1.36167413]\n",
      " [ 1.68977795 -0.48500454 -1.26002134]\n",
      " [ 2.36920073 -1.55192972 -1.35136696]\n",
      " [ 1.03172442  0.87037616 -1.08451248]\n",
      " [ 1.88929268 -0.78081083 -1.33039661]\n",
      " [ 1.93177135 -1.12932423 -1.15879173]\n",
      " [ 0.97835534  0.36948306 -0.83115496]]\n"
     ]
    }
   ],
   "source": [
    "import numpy as np\n",
    "\n",
    "def sigmoid(x):\n",
    "    return 1 / (1 + np.exp(-x))\n",
    "\n",
    "x = np.random.randn(10, 2)\n",
    "W1 = np.random.randn(2, 4)\n",
    "b1 = np.random.randn(4)\n",
    "W2 = np.random.randn(4, 3)\n",
    "b2 = np.random.randn(3)\n",
    "\n",
    "h = np.dot(x, W1) + b1\n",
    "a = sigmoid(h)\n",
    "s = np.dot(a, W2) + b2\n",
    "\n",
    "print(s)"
   ]
  },
  {
   "cell_type": "code",
   "execution_count": 7,
   "id": "faf5a1fc",
   "metadata": {},
   "outputs": [],
   "source": [
    "import numpy as np\n",
    "\n",
    "class Sigmoid:\n",
    "    def __init__(self):\n",
    "        self.params = []\n",
    "\n",
    "    def forward(self, x):\n",
    "        return 1 / (1 + np.exp(-x))\n",
    "    \n",
    "\n",
    "class Affine:\n",
    "    def __init__(self, W, b):\n",
    "        self.params = [W, b]\n",
    "\n",
    "    def forward(self, x):\n",
    "        W, b = self.params\n",
    "        out = np.dot(x, W) + b\n",
    "        return out"
   ]
  },
  {
   "cell_type": "code",
   "execution_count": 8,
   "id": "8fb354ba",
   "metadata": {},
   "outputs": [],
   "source": [
    "class TwoLayerNet:\n",
    "    def __init__(self, input_size, hidden_size, output_size):\n",
    "        I, H, O = input_size, hidden_size, output_size\n",
    "\n",
    "        W1 = np.random.randn(I, H)\n",
    "        b1 = np.random.randn(H)\n",
    "        W2 = np.random.randn(H, O)\n",
    "        b2 = np.random.randn(O)\n",
    "\n",
    "        self.layers = [\n",
    "            Affine(W1, b1),\n",
    "            Sigmoid(),\n",
    "            Affine(W2, b2)\n",
    "        ]\n",
    "\n",
    "        self.params = []\n",
    "        for layer in self.layers:\n",
    "            self.params += layer.params\n",
    "\n",
    "    def predict(self, x):\n",
    "        for layer in self.layers:\n",
    "            x = layer.forward(x)\n",
    "        return x\n"
   ]
  },
  {
   "cell_type": "code",
   "execution_count": 9,
   "id": "a3feca5b",
   "metadata": {},
   "outputs": [
    {
     "name": "stdout",
     "output_type": "stream",
     "text": [
      "[[-1.60663214  1.72760197  1.8463626 ]\n",
      " [-1.50555447  1.5165633   1.51227392]\n",
      " [-1.39396086  0.85685637  1.09181215]\n",
      " [-1.56936315  1.26091425  1.81409576]\n",
      " [-1.62468107  1.71787897  1.91875439]\n",
      " [-1.53733119  1.53035004  1.69287601]\n",
      " [-1.50490494  1.44085546  1.57030694]\n",
      " [-1.40561903  0.77334277  1.17102664]\n",
      " [-1.4519405   1.13861015  1.36879361]\n",
      " [-1.58880335  1.79276497  1.66510344]]\n"
     ]
    }
   ],
   "source": [
    "x = np.random.randn(10, 2)\n",
    "model = TwoLayerNet(2, 4, 3) # input_size, hidden_size, output_size\n",
    "s = model.predict(x)\n",
    "print(s)"
   ]
  },
  {
   "cell_type": "markdown",
   "id": "63797f6f",
   "metadata": {},
   "source": [
    "## 1.3 Laerning of Neural Network\n",
    "\n",
    "### 1.3.1 Loss Function\n",
    "![img](./fig/1_3_1.drawio.svg)\n",
    "\n",
    "softmax function is shown as folloing:\n",
    "$$\n",
    "    \\begin{align}\n",
    "        y_k &= \\frac{\\exp(s_k)}{\\sum_i^n \\exp(s_i)} \\\\\n",
    "        L &= -\\sum_i^n t_k \\log{y_k}\n",
    "    \\end{align}\n",
    "$$\n"
   ]
  },
  {
   "cell_type": "code",
   "execution_count": 10,
   "id": "fd95a9ae",
   "metadata": {},
   "outputs": [],
   "source": [
    "def softmax(x):\n",
    "    if x.ndim == 2:\n",
    "        x = x - x.max(axis=1, keepdims=True)\n",
    "        x = np.exp(x)\n",
    "        x /= x.sum(axis=1, keepdims=True)\n",
    "    elif x.ndim == 1:\n",
    "        x = x - np.max(x)\n",
    "        x = np.exp(x) / np.sum(np.exp(x))\n",
    "\n",
    "    return x\n",
    "\n",
    "def cross_entropy_error(y, t):\n",
    "    if y.ndim == 1:\n",
    "        t = t.reshape(1, t.size)\n",
    "        y = y.reshape(1, y.size)\n",
    "\n",
    "    batch_size = y.shape[0]\n",
    "    return -np.sum(np.log(y[np.arange(batch_size), t] + 1e-7)) / batch_size\n",
    "\n",
    "\n",
    "class SoftmaxWithLoss:\n",
    "    def __init__(self):\n",
    "        self.params = []\n",
    "        self.grads = []\n",
    "        self.loss = None\n",
    "        self.y = None\n",
    "        self.t = None\n",
    "\n",
    "    def forward(self, x, t):\n",
    "        self.t = t\n",
    "        self.y = softmax(x)\n",
    "        self.loss = cross_entropy_error(self.y, self.t)\n",
    "        return self.loss\n",
    "\n",
    "    def backward(self, dout=1):\n",
    "        batch_size = self.t.shape[0]\n",
    "        if self.t.size == self.y.size:\n",
    "            dx = (self.y - self.t) / batch_size\n",
    "        else:\n",
    "            dx = self.y\n",
    "        return dx"
   ]
  },
  {
   "cell_type": "markdown",
   "id": "0bcbdd5e",
   "metadata": {},
   "source": []
  },
  {
   "cell_type": "markdown",
   "id": "6844cff7",
   "metadata": {},
   "source": [
    "### 1.3.2 Differentiation and Gradient\n",
    "\n",
    "\n",
    "### 1.3.4 Calculation Graph\n",
    "\n",
    "#### 1.3.4.2 Branch(Copy) Node\n",
    "\n",
    "The result of Backpropation through a branch copy node is the sum of hte gradients from the branched outputs.\n",
    "$$\n",
    "    \\frac{\\partial L}{\\partial x} + \\frac{\\partial L}{\\partial x}\n",
    "$$\n",
    "\n",
    "#### 1.3.4.3 Repeat node\n",
    "\n",
    "Same as branch copy node, the gradient of repeat node is the sum of gradients of the branched outputs.\n"
   ]
  },
  {
   "cell_type": "code",
   "execution_count": 19,
   "id": "5b59a93d",
   "metadata": {},
   "outputs": [
    {
     "name": "stdout",
     "output_type": "stream",
     "text": [
      "[[ 1.02619179 -0.92312072 -0.4779004   0.5253111   0.8536584  -0.06696377\n",
      "  -0.01607654 -0.15158129]]\n",
      "[[ 1.02619179 -0.92312072 -0.4779004   0.5253111   0.8536584  -0.06696377\n",
      "  -0.01607654 -0.15158129]\n",
      " [ 1.02619179 -0.92312072 -0.4779004   0.5253111   0.8536584  -0.06696377\n",
      "  -0.01607654 -0.15158129]\n",
      " [ 1.02619179 -0.92312072 -0.4779004   0.5253111   0.8536584  -0.06696377\n",
      "  -0.01607654 -0.15158129]\n",
      " [ 1.02619179 -0.92312072 -0.4779004   0.5253111   0.8536584  -0.06696377\n",
      "  -0.01607654 -0.15158129]\n",
      " [ 1.02619179 -0.92312072 -0.4779004   0.5253111   0.8536584  -0.06696377\n",
      "  -0.01607654 -0.15158129]\n",
      " [ 1.02619179 -0.92312072 -0.4779004   0.5253111   0.8536584  -0.06696377\n",
      "  -0.01607654 -0.15158129]\n",
      " [ 1.02619179 -0.92312072 -0.4779004   0.5253111   0.8536584  -0.06696377\n",
      "  -0.01607654 -0.15158129]]\n",
      "(7, 8)\n",
      "(1, 8)\n"
     ]
    }
   ],
   "source": [
    "import numpy as np\n",
    "D, N = 8, 7\n",
    "x = np.random.randn(1, D)\n",
    "y = np.repeat(x, N, axis=0)\n",
    "\n",
    "dy = np.random.randn(N, D)\n",
    "dx = np.sum(dy, axis=0, keepdims=True)\n",
    "\n",
    "print(x)\n",
    "print(y)\n",
    "print(dy.shape)\n",
    "print(dx.shape)\n",
    "\n"
   ]
  },
  {
   "cell_type": "markdown",
   "id": "fd4c3e29",
   "metadata": {},
   "source": [
    "#### 1.3.4.4 Merge(Sum) node\n",
    "\n",
    "Opposite from Repear node, the gradient of merge node is the gradient of the copy of the branched outputs."
   ]
  },
  {
   "cell_type": "code",
   "execution_count": 21,
   "id": "41096837",
   "metadata": {},
   "outputs": [
    {
     "name": "stdout",
     "output_type": "stream",
     "text": [
      "[[ 0.49861556  0.31578376 -1.42410287 -0.46762021 -0.45315124 -2.17077979\n",
      "   1.62033403 -0.48322708]\n",
      " [-1.196297   -1.05044407 -1.89923202 -0.93230896  0.36980679  0.09410572\n",
      "  -0.73967384 -1.37502608]\n",
      " [-0.08455604  0.12522562  0.60070604  1.31670885 -1.29335691 -0.73639152\n",
      "   0.77475327 -0.22347416]\n",
      " [-0.93464377 -0.43859919  0.10388152 -0.70513299  1.9201208  -0.82267787\n",
      "   0.63246046 -1.27944173]\n",
      " [ 0.73819773  0.41860033  0.69538193 -0.23336224 -0.20851436 -0.68782643\n",
      "   0.21333413  0.38010639]\n",
      " [ 0.6381544  -1.1975144  -0.30493969 -1.07262524 -1.18861292 -0.31850862\n",
      "   0.66316918 -0.32197068]\n",
      " [-0.67054836  1.27205921 -1.9641311  -1.30710033  0.71348014 -2.02280273\n",
      "   0.34065187  0.45633866]]\n",
      "[[-2.56414785]\n",
      " [-6.72906947]\n",
      " [ 0.47961515]\n",
      " [-1.52403277]\n",
      " [ 1.31591748]\n",
      " [-3.10284797]\n",
      " [-3.18205263]]\n",
      "[[ 1.36019755  0.82119234 -1.14269755 -0.61052883  0.10491528 -0.73616304\n",
      "   0.28239113 -1.68952825]]\n",
      "[[ 1.36019755  0.82119234 -1.14269755 -0.61052883  0.10491528 -0.73616304\n",
      "   0.28239113 -1.68952825]\n",
      " [ 1.36019755  0.82119234 -1.14269755 -0.61052883  0.10491528 -0.73616304\n",
      "   0.28239113 -1.68952825]\n",
      " [ 1.36019755  0.82119234 -1.14269755 -0.61052883  0.10491528 -0.73616304\n",
      "   0.28239113 -1.68952825]\n",
      " [ 1.36019755  0.82119234 -1.14269755 -0.61052883  0.10491528 -0.73616304\n",
      "   0.28239113 -1.68952825]\n",
      " [ 1.36019755  0.82119234 -1.14269755 -0.61052883  0.10491528 -0.73616304\n",
      "   0.28239113 -1.68952825]\n",
      " [ 1.36019755  0.82119234 -1.14269755 -0.61052883  0.10491528 -0.73616304\n",
      "   0.28239113 -1.68952825]\n",
      " [ 1.36019755  0.82119234 -1.14269755 -0.61052883  0.10491528 -0.73616304\n",
      "   0.28239113 -1.68952825]]\n"
     ]
    }
   ],
   "source": [
    "import numpy as np\n",
    "D, N = 8, 7\n",
    "x = np.random.randn(N, D)\n",
    "y = np.sum(x, axis=1, keepdims=True)\n",
    "\n",
    "dy = np.random.randn(1,D)\n",
    "dx = np.repeat(dy, N, axis=0)\n",
    "\n",
    "print(x)\n",
    "print(y)\n",
    "print(dy)\n",
    "print(dx)\n"
   ]
  },
  {
   "cell_type": "markdown",
   "id": "6f533f8d",
   "metadata": {},
   "source": [
    "#### 1.3.4.5 Matrix Multiplication node\n",
    "\n",
    "The gradient of matrix multiplication node is the product of the gradients of the branched outputs and the transposed input.\n",
    "$$\n",
    "    \\frac{\\partial L}{\\partial x_i} = \\sum_j \\frac{\\partial L}{\\partial y_j} \\frac{\\partial y_j}{\\partial x} = \\sum_j \\frac{\\partial L}{\\partial y_j} W_{ij}\n",
    "$$\n",
    "\n"
   ]
  },
  {
   "cell_type": "code",
   "execution_count": 22,
   "id": "d091ac10",
   "metadata": {},
   "outputs": [],
   "source": [
    "class MatMul:\n",
    "    def __init__(self, W):\n",
    "        self.params = [W]\n",
    "        self.grads = [np.zeros_like(W)]\n",
    "        self.x = None\n",
    "\n",
    "    def forward(self, x):\n",
    "        W = self.params\n",
    "        out = np.dot(x, W)\n",
    "        self.x = x\n",
    "        return out\n",
    "\n",
    "    def backward(self, dout):\n",
    "        W = self.params\n",
    "        dx = np.dot(dout, W.T)\n",
    "        dW = np.dot(self.x.T, dout)\n",
    "        self.grads[0][...] = dW\n",
    "        return dx\n",
    "    "
   ]
  },
  {
   "cell_type": "markdown",
   "id": "219d034d",
   "metadata": {},
   "source": [
    "### 1.3.5 Derivation of Gradients and Implementation of Backpropagation\n",
    "\n",
    "#### 1.3.5.1 Sigmoid Layer\n",
    "\n",
    "$$\n",
    "    \\frac{\\partial L}{\\partial x} = y(1-y)\n",
    "$$"
   ]
  },
  {
   "cell_type": "code",
   "execution_count": null,
   "id": "00f9a474",
   "metadata": {},
   "outputs": [],
   "source": [
    "class Sigmoid:\n",
    "    def __init__(self):\n",
    "        self.params, self.grads = [], []\n",
    "        self.out = None\n",
    "\n",
    "    def forward(self, x):\n",
    "        out = 1 / (1 + np.exp(-x))\n",
    "        self.out = out\n",
    "        return out\n",
    "\n",
    "    def backward(self, dout):\n",
    "        dx = dout * (1 - self.out) * self.out\n",
    "        return dx\n",
    "\n"
   ]
  },
  {
   "cell_type": "markdown",
   "id": "7a3253e0",
   "metadata": {},
   "source": [
    "#### 1.3.5.2 Affine Layer\n",
    "\n",
    "Predict result of Affine Luyer is\n",
    "$$X(N, D) * W(D, H) + b(H) = Y(N, H)$$\n",
    "\n",
    "Backpropagation is calculated as\n",
    "$$\n",
    "    \\frac{\\partial L}{\\partial x} (N,D) = \\frac{\\partial L}{\\partial y} (N,H) * \\frac{\\partial y}{\\partial x} (D,H).T = \\frac{\\partial L}{\\partial y} (N,H) * W.T\n",
    "$$"
   ]
  },
  {
   "cell_type": "code",
   "execution_count": null,
   "id": "57ac29ca",
   "metadata": {},
   "outputs": [],
   "source": [
    "# Affine Class\n",
    "\n",
    "class Affine:\n",
    "    def __init__(self, w, b):\n",
    "        self.params = [w, b]\n",
    "        self.grads = [np.zeros_like(w), np.zeros_like(b)]\n",
    "        self.x = None\n",
    "\n",
    "    def forward(self, x):\n",
    "        w, b = self.params\n",
    "        out = np.dot(x, w) + b\n",
    "        self.x = x\n",
    "        return out\n",
    "    \n",
    "    def backward(self, dout):\n",
    "        w, b = self.params\n",
    "        dx = np.dot(dout, w.T)\n",
    "        dw = np.dot(self.x.T, dout)\n",
    "        db = np.sum(dout, axis=0)\n",
    "\n",
    "        self.grads[0][...] = dw\n",
    "        self.grads[1][...] = db\n",
    "        return dx"
   ]
  },
  {
   "cell_type": "markdown",
   "id": "1be46bcb",
   "metadata": {},
   "source": [
    "#### 1.3.5.3 Softmax with Loss Layer\n",
    "\n"
   ]
  },
  {
   "cell_type": "markdown",
   "id": "e07ef79c",
   "metadata": {},
   "source": [
    "### 1.3.6 Update weights with Gradient Descent\n",
    "\n",
    "Weights are updated as\n",
    "\n",
    "$$\n",
    "    W_{ij} = W_{ij} - \\eta \\frac{\\partial L}{\\partial W_{ij}}\n",
    "$$"
   ]
  },
  {
   "cell_type": "code",
   "execution_count": 23,
   "id": "4e6a63cb",
   "metadata": {},
   "outputs": [],
   "source": [
    "class SGD:\n",
    "    def __init__(self, lr=0.01):\n",
    "        self.lr = lr\n",
    "\n",
    "    def update(self, params, grads):\n",
    "        for i in range(len(params)):\n",
    "            params[i] -= self.lr * grads[i]\n"
   ]
  },
  {
   "cell_type": "markdown",
   "id": "1d973784",
   "metadata": {},
   "source": [
    "## 1.4 Solve a Problem with Neural Network\n",
    "\n",
    "### 1.4.1 spiral dataset\n"
   ]
  },
  {
   "cell_type": "code",
   "execution_count": 35,
   "id": "3160396f",
   "metadata": {},
   "outputs": [
    {
     "name": "stdout",
     "output_type": "stream",
     "text": [
      "(300, 2)\n",
      "(300, 3)\n"
     ]
    },
    {
     "data": {
      "image/png": "[encoded data removed]",
      "text/plain": [
       "<Figure size 640x480 with 1 Axes>"
      ]
     },
     "metadata": {},
     "output_type": "display_data"
    }
   ],
   "source": [
    "import sys\n",
    "sys.path.append(\"../.org/deep-learning-from-scratch-2/\")\n",
    "from dataset import spiral\n",
    "import numpy as np\n",
    "import matplotlib.pyplot as plt\n",
    "import importlib\n",
    "## needed to modify spiral.py np.int to np.int32\n",
    "\n",
    "\n",
    "importlib.reload(spiral)\n",
    "\n",
    "x, t = spiral.load_data()\n",
    "print(x.shape)\n",
    "print(t.shape)\n",
    "\n",
    "# Plot x datas with result label T\n",
    "\n",
    "N = 100\n",
    "CLS_NUM = 3\n",
    "markers = ['o', 'x', '^']\n",
    "for i in range(CLS_NUM):\n",
    "    plt.scatter(x[i*N:(i+1)*N, 0], x[i*N:(i+1)*N, 1], s=40, marker=markers[i])"
   ]
  },
  {
   "cell_type": "markdown",
   "id": "58059ff1",
   "metadata": {},
   "source": [
    "### 1.4.2 implementation of Neural Network"
   ]
  },
  {
   "cell_type": "code",
   "execution_count": 36,
   "id": "1c5e86c9",
   "metadata": {},
   "outputs": [],
   "source": [
    "# 1.4.2 implementation of Neural Network\n",
    "\n",
    "import sys\n",
    "sys.path.append(\"../.org/deep-learning-from-scratch-2/\")\n",
    "import numpy as np\n",
    "from common.layers import Affine, Sigmoid, SoftmaxWithLoss\n",
    "\n",
    "class TwoLayerNet:\n",
    "    def __init__(self, input_size, hidden_size, output_size):\n",
    "        I, H, O = input_size, hidden_size, output_size\n",
    "\n",
    "        # initialize weight and bias\n",
    "        W1 = 0.01 * np.random.randn(I, H)\n",
    "        b1 = np.random.randn(H)\n",
    "        W2 = 0.01 * np.random.randn(H, O)\n",
    "        b2 = np.random.randn(O)\n",
    "\n",
    "        self.layers = [\n",
    "            Affine(W1, b1),\n",
    "            Sigmoid(),\n",
    "            Affine(W2, b2)\n",
    "        ]\n",
    "        self.loss_layer = SoftmaxWithLoss()\n",
    "\n",
    "        self.params, self.grads = [], []\n",
    "        for layer in self.layers:\n",
    "            self.params += layer.params\n",
    "            self.grads += layer.grads\n",
    "\n",
    "    def predict(self, x):\n",
    "        for layer in self.layers:\n",
    "            x = layer.forward(x)\n",
    "        return x\n",
    "    \n",
    "    def forward(self, x, t):\n",
    "        y = self.predict(x)\n",
    "        loss = self.loss_layer.forward(y, t)\n",
    "        return loss\n",
    "    \n",
    "    def backward(self, dout=1):\n",
    "        dout = self.loss_layer.backward(dout)\n",
    "        for layer in reversed(self.layers):\n",
    "            dout = layer.backward(dout)\n",
    "        return dout"
   ]
  },
  {
   "cell_type": "code",
   "execution_count": null,
   "id": "4c0f386a",
   "metadata": {},
   "outputs": [],
   "source": []
  }
 ],
 "metadata": {
  "kernelspec": {
   "display_name": "Python 3 (ipykernel)",
   "language": "python",
   "name": "python3"
  },
  "language_info": {
   "codemirror_mode": {
    "name": "ipython",
    "version": 3
   },
   "file_extension": ".py",
   "mimetype": "text/x-python",
   "name": "python",
   "nbconvert_exporter": "python",
   "pygments_lexer": "ipython3",
   "version": "3.11.5"
  }
 },
 "nbformat": 4,
 "nbformat_minor": 5
}
