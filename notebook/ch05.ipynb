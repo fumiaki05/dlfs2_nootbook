{
 "cells": [
  {
   "cell_type": "markdown",
   "metadata": {},
   "source": [
    "# Chapter 5: Recurrent Neural Network\n",
    "\n",
    "## 5.3 Implementing RNNs\n",
    "\n",
    "### 5.3.1 Implementing RNN Layer\n",
    "\n",
    "RNN layer is shown as below.\n",
    "RNN receives input $x_{t}$ and previous hidden state $h_{t-1}$ and returns the next hidden state $h_{t}$ as shown below.\n",
    "![5.3.1](./fig/5_3_1.drawio.svg)\n",
    "\n",
    "Forward propagation of RNN layer is given by the following formula.\n",
    "$$\n",
    "    h_t = tanh(h_{t-1} W_h + x_{t} W_{x} + b)\n",
    "$$\n",
    "\n",
    "Matrix size of $h_{t-1}$ and $W_{h}$ are `$(N, H)$` and `(H, H)` respectively.\n",
    "Also $x_{t}$ and $W_{x}$ are `(N, D)` and `(D, H)`, then $h_t$ is `(N, H)`.\n",
    "\n",
    "Note that, N is number of samples, H is hidden size, D is input size.\n",
    "\n",
    "backward propagation of RNN layer is shown as below.\n",
    "![5.3.1_2](./fig/5_3_1_2.drawio.svg)"
   ]
  },
  {
   "cell_type": "code",
   "execution_count": 1,
   "metadata": {},
   "outputs": [],
   "source": [
    "import numpy as np\n",
    "\n",
    "class RNN:\n",
    "    def __init__(self, Wx, Wh, b):\n",
    "        self.params = [Wx, Wh, b]\n",
    "        self.grads = [np.zeros_like(Wx), np.zeros_like(Wh), np.zeros_like(b)]\n",
    "        self.cache = None\n",
    "\n",
    "    def forward(self, x, h_prev):\n",
    "        Wx, Wh, b = self.params\n",
    "        t = np.matmul(h_prev, Wh) + np.matmul(x, Wx) + b\n",
    "        h_next = np.tanh(t)\n",
    "\n",
    "        self.cache = (x, h_prev, h_next)\n",
    "        return h_next\n",
    "\n",
    "    def backward(self, dh_next):\n",
    "        # N: batch_size\n",
    "        # D: input_size\n",
    "        # H: hidden_size\n",
    "        # Wx = (D, H), Wh = (H, H), b = (H,)\n",
    "        # x = (N, D), h_prev = (N, H), h_next = (N, H)\n",
    "        Wx, Wh, b = self.params\n",
    "        x, h_prev, h_next = self.cache\n",
    "\n",
    "        dt = dh_next * (1 - h_next ** 2)\n",
    "        db = np.sum(dt, axis=0)\n",
    "        dWh = np.dot(h_prev.T, dt)\n",
    "        dh_prev = np.dot(dt, Wh.T)\n",
    "        dWx = np.dot(x.T, dt)\n",
    "        dx = np.dot(dt, Wx.T)\n",
    "        \n",
    "        self.grads[0][...] = dWx\n",
    "        self.grads[1][...] = dWh\n",
    "        self.grads[2][...] = db\n",
    "\n",
    "        return dx, dh_prev"
   ]
  },
  {
   "cell_type": "markdown",
   "metadata": {},
   "source": [
    "## 5.3.2 Implementing Time RNN\n",
    "\n",
    "Time RNN is a stack of RNN layers.\n"
   ]
  },
  {
   "cell_type": "code",
   "execution_count": null,
   "metadata": {},
   "outputs": [],
   "source": []
  }
 ],
 "metadata": {
  "kernelspec": {
   "display_name": "base",
   "language": "python",
   "name": "python3"
  },
  "language_info": {
   "codemirror_mode": {
    "name": "ipython",
    "version": 3
   },
   "file_extension": ".py",
   "mimetype": "text/x-python",
   "name": "python",
   "nbconvert_exporter": "python",
   "pygments_lexer": "ipython3",
   "version": "3.11.5"
  }
 },
 "nbformat": 4,
 "nbformat_minor": 2
}
